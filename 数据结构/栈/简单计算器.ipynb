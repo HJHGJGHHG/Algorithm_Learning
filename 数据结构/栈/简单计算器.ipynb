{
 "cells": [
  {
   "cell_type": "code",
   "execution_count": 1,
   "metadata": {
    "collapsed": true
   },
   "outputs": [],
   "source": [
    "# 栈最经典的用法：中、后序表达式的转换\n",
    "# PART1：中序表达式转后序表达式\n",
    "ops = [\"(\", \")\", \"+\", \"-\", \"*\", \"/\"]\n",
    "priority = {\n",
    "    \"*\": 3,\n",
    "    \"/\": 3,\n",
    "    \"+\": 2,\n",
    "    \"-\": 2,\n",
    "    \"(\": 1\n",
    "}"
   ]
  },
  {
   "cell_type": "code",
   "execution_count": 2,
   "outputs": [
    {
     "name": "stdout",
     "output_type": "stream",
     "text": [
      "124/+3*\n"
     ]
    }
   ],
   "source": [
    "def inTopost(string):\n",
    "    opstack = []\n",
    "    post = []\n",
    "    for item in string:\n",
    "        if item not in ops:\n",
    "            post.append(item)\n",
    "        elif item == \"(\":\n",
    "            opstack.append(item)\n",
    "        elif item == \")\":\n",
    "            top = opstack.pop()\n",
    "            post.append(top)\n",
    "            while True:\n",
    "                top = opstack.pop()\n",
    "                if top != \"(\":\n",
    "                    post.append(top)\n",
    "                else:\n",
    "                    break\n",
    "        else:\n",
    "            while (not opstack == []) and (priority[opstack[-1]] >= priority[item]):\n",
    "                post.append(opstack.pop())\n",
    "            opstack.append(item)  # push\n",
    "\n",
    "    while not opstack == []:\n",
    "        post.append(opstack.pop())\n",
    "\n",
    "    return \"\".join(post)\n",
    "\n",
    "\n",
    "print(inTopost(\"(1+2/4)*3\"))"
   ],
   "metadata": {
    "collapsed": false,
    "pycharm": {
     "name": "#%%\n"
    }
   }
  },
  {
   "cell_type": "code",
   "execution_count": 4,
   "outputs": [
    {
     "name": "stdout",
     "output_type": "stream",
     "text": [
      "4.5\n"
     ]
    }
   ],
   "source": [
    "# PART2：计算后序表达式\n",
    "def doMath(op, num1, num2):\n",
    "    if op == \"*\":\n",
    "        return num1 * num2\n",
    "    elif op == \"/\":\n",
    "        return num1 / num2\n",
    "    elif op == \"+\":\n",
    "        return num1 + num2\n",
    "    elif op == \"-\":\n",
    "        return num1 - num2\n",
    "\n",
    "\n",
    "def calpost(string):\n",
    "    nums = []\n",
    "    for item in string:\n",
    "        if item not in ops:\n",
    "            nums.append(int(item))\n",
    "        else:\n",
    "            num2 = nums.pop()\n",
    "            num1 = nums.pop()\n",
    "            nums.append(doMath(item, num1, num2))\n",
    "    return nums.pop()\n",
    "\n",
    "\n",
    "print(calpost(\"124/+3*\"))"
   ],
   "metadata": {
    "collapsed": false,
    "pycharm": {
     "name": "#%%\n"
    }
   }
  }
 ],
 "metadata": {
  "kernelspec": {
   "display_name": "Python 3",
   "language": "python",
   "name": "python3"
  },
  "language_info": {
   "codemirror_mode": {
    "name": "ipython",
    "version": 2
   },
   "file_extension": ".py",
   "mimetype": "text/x-python",
   "name": "python",
   "nbconvert_exporter": "python",
   "pygments_lexer": "ipython2",
   "version": "2.7.6"
  }
 },
 "nbformat": 4,
 "nbformat_minor": 0
}