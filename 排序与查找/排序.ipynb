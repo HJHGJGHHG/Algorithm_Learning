{
 "cells": [
  {
   "cell_type": "code",
   "execution_count": 8,
   "metadata": {
    "collapsed": true
   },
   "outputs": [],
   "source": [
    "# 各种排序算法的实现\n",
    "import time\n",
    "import random\n",
    "\n",
    "#data = [random.randint(0, 100) for _ in range(100)]\n",
    "data = [10, 17, 50, 7, 30, 24, 27, 45, 15, 5, 36, 21, 5]"
   ]
  },
  {
   "cell_type": "code",
   "execution_count": 9,
   "outputs": [
    {
     "name": "stdout",
     "output_type": "stream",
     "text": [
      "0.0\n",
      "[5, 5, 7, 10, 15, 17, 21, 24, 27, 30, 36, 45, 50]\n"
     ]
    }
   ],
   "source": [
    "# 冒泡排序\n",
    "def bubble_sort(data):\n",
    "    for i in range(1, len(data)):\n",
    "        for j in range(0, len(data) - i):\n",
    "            if data[j] > data[j + 1]:\n",
    "                data[j], data[j + 1] = data[j + 1], data[j]\n",
    "    return data\n",
    "\n",
    "\n",
    "start = time.time()\n",
    "ans1 = bubble_sort(data)\n",
    "print(time.time() - start)\n",
    "print(ans1)"
   ],
   "metadata": {
    "collapsed": false,
    "pycharm": {
     "name": "#%%\n"
    }
   }
  },
  {
   "cell_type": "code",
   "execution_count": 10,
   "outputs": [
    {
     "name": "stdout",
     "output_type": "stream",
     "text": [
      "0.0\n",
      "[5, 5, 7, 10, 15, 17, 21, 24, 27, 30, 36, 45, 50]\n"
     ]
    }
   ],
   "source": [
    "# 快速排序\n",
    "def quick_sort(data):\n",
    "    if len(data) >= 2:\n",
    "        right, left = [], []\n",
    "        mid = data[len(data) // 2]\n",
    "        data.remove(mid)\n",
    "        for num in data:\n",
    "            if num >= mid:\n",
    "                right.append(num)\n",
    "            else:\n",
    "                left.append(num)\n",
    "        return quick_sort(left) + [mid] + quick_sort(right)\n",
    "    else:\n",
    "        return data\n",
    "\n",
    "\n",
    "start = time.time()\n",
    "ans = quick_sort(data)\n",
    "print(time.time() - start)\n",
    "print(ans)"
   ],
   "metadata": {
    "collapsed": false,
    "pycharm": {
     "name": "#%%\n"
    }
   }
  }
 ],
 "metadata": {
  "kernelspec": {
   "display_name": "Python 3",
   "language": "python",
   "name": "python3"
  },
  "language_info": {
   "codemirror_mode": {
    "name": "ipython",
    "version": 2
   },
   "file_extension": ".py",
   "mimetype": "text/x-python",
   "name": "python",
   "nbconvert_exporter": "python",
   "pygments_lexer": "ipython2",
   "version": "2.7.6"
  }
 },
 "nbformat": 4,
 "nbformat_minor": 0
}